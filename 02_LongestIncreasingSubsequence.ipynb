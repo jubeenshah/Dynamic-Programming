{
 "cells": [
  {
   "cell_type": "code",
   "execution_count": 99,
   "metadata": {},
   "outputs": [
    {
     "name": "stdout",
     "output_type": "stream",
     "text": [
      "Mine is better :  70 30\n",
      "Mine is better :  71 29\n",
      "Mine is better :  72 28\n",
      "Mine is better :  69 31\n",
      "Mine is better :  74 26\n",
      "Mine is better :  66 34\n",
      "Theirs is better :  42 58\n",
      "Mine is better :  66 34\n",
      "Mine is better :  63 37\n",
      "Mine is better :  52 48\n",
      "Theirs is better :  48 52\n",
      "Mine is better :  54 46\n",
      "Mine is better :  56 44\n",
      "Mine is better :  69 31\n",
      "Mine is better :  65 35\n",
      "Mine is better :  71 29\n",
      "Mine is better :  67 33\n",
      "Mine is better :  59 41\n",
      "Mine is better :  55 45\n",
      "Mine is better :  68 32\n"
     ]
    }
   ],
   "source": [
    "import random\n",
    "import time\n",
    "\n",
    "\n",
    "\n",
    "def lis(arr, n):\n",
    "    lis = [1] * n\n",
    "    \n",
    "    maximum = 0\n",
    "    \n",
    "    for i in range (1,n):\n",
    "        for j in range(0,i):\n",
    "            if arr[i] > arr[j] and lis[i] < lis[j] + 1:\n",
    "                lis[i] = lis[j] + 1\n",
    "            \n",
    "    \n",
    "    for i in range(n):\n",
    "            maximum = max(maximum , lis[i])\n",
    "          \n",
    "    return maximum\n",
    "\n",
    "\n",
    "\n",
    "\n",
    "xScore = 0\n",
    "yScore = 0\n",
    "for i in range (0,20):\n",
    "    xScore = 0\n",
    "    yScore = 0\n",
    "    for i in range(0,100):\n",
    "        arr = random.sample(range(1,200),199)\n",
    "        start_time = time.time()\n",
    "        #print(lis(arr,len(arr))\n",
    "        x = time.time() - start_time\n",
    "\n",
    "        start_time_2 = time.time()\n",
    "        #print(lis_2(arr))\n",
    "        y = time.time() - start_time_2\n",
    "\n",
    "        if x > y:\n",
    "            xScore = xScore + 1\n",
    "        else:\n",
    "            yScore = yScore + 1\n",
    "\n",
    "    if xScore > yScore:\n",
    "        print(\"Mine is better : \", xScore, yScore)\n",
    "    elif xScore <yScore:\n",
    "        print(\"Theirs is better : \", xScore, yScore)\n",
    "    else:\n",
    "        print(\"Equal : \", xScore, yScore)\n",
    "    \n",
    "        \n",
    "\n"
   ]
  },
  {
   "cell_type": "code",
   "execution_count": 66,
   "metadata": {},
   "outputs": [],
   "source": [
    "def lis_2(arr):\n",
    "    \n",
    "    n = len(arr)\n",
    "\n",
    "    lis = [1]*n\n",
    " \n",
    "    for i in range (1 , n):\n",
    "        for j in range(0 , i):\n",
    "            if arr[i] > arr[j] and lis[i]< lis[j] + 1 :\n",
    "                lis[i] = lis[j]+1\n",
    "\n",
    "    maximum = 0\n",
    "\n",
    "    for i in range(n):\n",
    "        maximum = max(maximum , lis[i])\n",
    " \n",
    "    return maximum\n",
    "\n"
   ]
  },
  {
   "cell_type": "code",
   "execution_count": null,
   "metadata": {
    "collapsed": true
   },
   "outputs": [],
   "source": []
  }
 ],
 "metadata": {
  "kernelspec": {
   "display_name": "Python 3",
   "language": "python",
   "name": "python3"
  },
  "language_info": {
   "codemirror_mode": {
    "name": "ipython",
    "version": 3
   },
   "file_extension": ".py",
   "mimetype": "text/x-python",
   "name": "python",
   "nbconvert_exporter": "python",
   "pygments_lexer": "ipython3",
   "version": "3.6.0"
  }
 },
 "nbformat": 4,
 "nbformat_minor": 2
}
